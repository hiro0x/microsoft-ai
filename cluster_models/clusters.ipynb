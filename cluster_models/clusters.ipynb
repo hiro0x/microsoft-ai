{
 "cells": [
  {
   "cell_type": "markdown",
   "metadata": {},
   "source": [
    "CHALLENGE 4\n",
    "\n",
    "USING CLUSTERING MODELS \n",
    "\n",
    "K-MEANS & HIERARCHICAL "
   ]
  },
  {
   "cell_type": "code",
   "execution_count": 1,
   "metadata": {},
   "outputs": [
    {
     "data": {
      "text/html": [
       "<div>\n",
       "<style scoped>\n",
       "    .dataframe tbody tr th:only-of-type {\n",
       "        vertical-align: middle;\n",
       "    }\n",
       "\n",
       "    .dataframe tbody tr th {\n",
       "        vertical-align: top;\n",
       "    }\n",
       "\n",
       "    .dataframe thead th {\n",
       "        text-align: right;\n",
       "    }\n",
       "</style>\n",
       "<table border=\"1\" class=\"dataframe\">\n",
       "  <thead>\n",
       "    <tr style=\"text-align: right;\">\n",
       "      <th></th>\n",
       "      <th>A</th>\n",
       "      <th>B</th>\n",
       "      <th>C</th>\n",
       "    </tr>\n",
       "  </thead>\n",
       "  <tbody>\n",
       "    <tr>\n",
       "      <th>982</th>\n",
       "      <td>2.276257</td>\n",
       "      <td>2.667525</td>\n",
       "      <td>1.465224</td>\n",
       "    </tr>\n",
       "    <tr>\n",
       "      <th>334</th>\n",
       "      <td>3.676768</td>\n",
       "      <td>2.398964</td>\n",
       "      <td>1.871437</td>\n",
       "    </tr>\n",
       "    <tr>\n",
       "      <th>569</th>\n",
       "      <td>3.586929</td>\n",
       "      <td>3.168780</td>\n",
       "      <td>3.516863</td>\n",
       "    </tr>\n",
       "    <tr>\n",
       "      <th>295</th>\n",
       "      <td>3.793915</td>\n",
       "      <td>2.829522</td>\n",
       "      <td>3.387768</td>\n",
       "    </tr>\n",
       "    <tr>\n",
       "      <th>864</th>\n",
       "      <td>2.631499</td>\n",
       "      <td>3.470307</td>\n",
       "      <td>2.840858</td>\n",
       "    </tr>\n",
       "    <tr>\n",
       "      <th>722</th>\n",
       "      <td>-0.620953</td>\n",
       "      <td>-0.497436</td>\n",
       "      <td>-1.239371</td>\n",
       "    </tr>\n",
       "    <tr>\n",
       "      <th>739</th>\n",
       "      <td>2.607581</td>\n",
       "      <td>3.090913</td>\n",
       "      <td>2.999687</td>\n",
       "    </tr>\n",
       "    <tr>\n",
       "      <th>501</th>\n",
       "      <td>0.910219</td>\n",
       "      <td>1.493452</td>\n",
       "      <td>1.975177</td>\n",
       "    </tr>\n",
       "    <tr>\n",
       "      <th>195</th>\n",
       "      <td>1.407642</td>\n",
       "      <td>0.759656</td>\n",
       "      <td>1.112634</td>\n",
       "    </tr>\n",
       "    <tr>\n",
       "      <th>491</th>\n",
       "      <td>2.705733</td>\n",
       "      <td>3.223844</td>\n",
       "      <td>4.084935</td>\n",
       "    </tr>\n",
       "  </tbody>\n",
       "</table>\n",
       "</div>"
      ],
      "text/plain": [
       "            A         B         C\n",
       "982  2.276257  2.667525  1.465224\n",
       "334  3.676768  2.398964  1.871437\n",
       "569  3.586929  3.168780  3.516863\n",
       "295  3.793915  2.829522  3.387768\n",
       "864  2.631499  3.470307  2.840858\n",
       "722 -0.620953 -0.497436 -1.239371\n",
       "739  2.607581  3.090913  2.999687\n",
       "501  0.910219  1.493452  1.975177\n",
       "195  1.407642  0.759656  1.112634\n",
       "491  2.705733  3.223844  4.084935"
      ]
     },
     "execution_count": 1,
     "metadata": {},
     "output_type": "execute_result"
    }
   ],
   "source": [
    "import pandas as pd\n",
    "cluster_data = pd.read_csv('/Users/hiro0x/Documents/GitHub/microsoft-ai/cluster_models/clusters.csv')\n",
    "cluster_data.sample(10)\n"
   ]
  },
  {
   "cell_type": "markdown",
   "metadata": {},
   "source": [
    "Your challenge is to identify the number of discrete clusters present in the data, and create a clustering model that separates the data into that number of clusters. You should also visualize the clusters to evaluate the level of separation achieved by your model.\n",
    "\n",
    "Add markdown and code cells as required to create your solution."
   ]
  },
  {
   "cell_type": "markdown",
   "metadata": {},
   "source": [
    "Use PCA to create a 2D version of the features for visualization"
   ]
  },
  {
   "cell_type": "code",
   "execution_count": 2,
   "metadata": {},
   "outputs": [
    {
     "data": {
      "text/plain": [
       "array([[ 0.38631524, -0.05515159],\n",
       "       [ 0.5679739 , -0.06144958],\n",
       "       [-0.2979762 ,  0.08474023],\n",
       "       [-0.46052216,  0.11460533],\n",
       "       [ 0.44134723, -0.16034683],\n",
       "       [ 0.42096717, -0.06126763],\n",
       "       [-0.57863184,  0.07164111],\n",
       "       [-0.14035181,  0.10637315],\n",
       "       [ 0.47575131,  0.13633551],\n",
       "       [ 0.57024335,  0.0206122 ]])"
      ]
     },
     "execution_count": 2,
     "metadata": {},
     "output_type": "execute_result"
    }
   ],
   "source": [
    "from sklearn.preprocessing import MinMaxScaler\n",
    "from sklearn.decomposition import PCA\n",
    "\n",
    "# normalize\n",
    "scaled_features = MinMaxScaler().fit_transform(cluster_data)\n",
    "\n",
    "# get two principal components\n",
    "pca = PCA(n_components=2).fit(scaled_features)\n",
    "features_2d = pca.transform(scaled_features)\n",
    "features_2d[0:10]\n"
   ]
  },
  {
   "cell_type": "markdown",
   "metadata": {},
   "source": [
    "VISUALIZE"
   ]
  },
  {
   "cell_type": "code",
   "execution_count": 3,
   "metadata": {},
   "outputs": [
    {
     "data": {
      "image/png": "[encoded data removed]",
      "text/plain": [
       "<Figure size 432x288 with 1 Axes>"
      ]
     },
     "metadata": {
      "needs_background": "light"
     },
     "output_type": "display_data"
    }
   ],
   "source": [
    "import matplotlib.pyplot as plt\n",
    "%matplotlib inline\n",
    "\n",
    "plt.scatter(features_2d[:,0], features_2d[:,1])\n",
    "plt.xlabel('Dimension1')\n",
    "plt.ylabel('Dimension2')\n",
    "plt.title('Data')\n",
    "plt.show()\n",
    "\n"
   ]
  },
  {
   "cell_type": "markdown",
   "metadata": {},
   "source": [
    "CALCULATE WCSS FOR MULTIPLE CLUSTER NUMBERS TO DETERMINE OPTIMAL # OF CLUSTERS"
   ]
  },
  {
   "cell_type": "code",
   "execution_count": 4,
   "metadata": {},
   "outputs": [
    {
     "data": {
      "image/png": "[encoded data removed]",
      "text/plain": [
       "<Figure size 432x288 with 1 Axes>"
      ]
     },
     "metadata": {
      "needs_background": "light"
     },
     "output_type": "display_data"
    }
   ],
   "source": [
    "import numpy as np\n",
    "import matplotlib.pyplot as plt\n",
    "from sklearn.cluster import KMeans\n",
    "%matplotlib inline\n",
    "\n",
    "# create 10 models, with 1 -> clusters \n",
    "\n",
    "wcss = []\n",
    "for i in range(1,11):\n",
    "    kmeans = KMeans(n_clusters=i)\n",
    "    kmeans.fit(cluster_data)\n",
    "    wcss.append(kmeans.inertia_)\n",
    "\n",
    "plt.plot(range(1,11), wcss)\n",
    "plt.title('WCSS bu Clusters')\n",
    "plt.xlabel('# of Clusters')\n",
    "plt.ylabel('WCSS')\n",
    "plt.show()\n",
    "\n",
    "\n"
   ]
  },
  {
   "cell_type": "code",
   "execution_count": 5,
   "metadata": {},
   "outputs": [
    {
     "data": {
      "text/plain": [
       "array([1, 1, 3, 3, 1, 1, 3, 0, 1, 1, 3, 2, 2, 0, 0, 0, 3, 2, 0, 0, 1, 0,\n",
       "       1, 1, 0, 2, 3, 1, 2, 0, 2, 1, 3, 0, 0, 1, 0, 0, 1, 0, 0, 0, 3, 2,\n",
       "       3, 1, 1, 3, 3, 0, 1, 2, 3, 3, 3, 3, 0, 1, 3, 1, 1, 1, 1, 1, 0, 0,\n",
       "       2, 0, 2, 3, 2, 0, 0, 3, 2, 0, 0, 0, 1, 2, 0, 2, 3, 2, 0, 3, 2, 0,\n",
       "       0, 2, 2, 2, 3, 0, 2, 0, 3, 0, 3, 2, 0, 2, 3, 2, 0, 2, 3, 0, 0, 3,\n",
       "       0, 2, 1, 1, 2, 3, 2, 3, 1, 2, 0, 2, 3, 3, 1, 0, 2, 0, 3, 1, 2, 2,\n",
       "       2, 0, 2, 2, 0, 1, 0, 2, 1, 2, 2, 1, 3, 3, 0, 3, 0, 0, 3, 1, 1, 0,\n",
       "       1, 2, 1, 0, 0, 0, 2, 1, 3, 3, 0, 2, 2, 1, 1, 3, 1, 2, 0, 3, 0, 2,\n",
       "       2, 0, 0, 1, 0, 1, 2, 2, 0, 3, 1, 3, 3, 2, 2, 1, 2, 0, 3, 2, 0, 0,\n",
       "       1, 3, 2, 3, 3, 3, 1, 1, 3, 0, 3, 1, 3, 3, 2, 1, 3, 0, 0, 3, 1, 3,\n",
       "       0, 1, 2, 3, 2, 0, 2, 1, 2, 1, 0, 1, 2, 0, 1, 3, 3, 1, 3, 2, 3, 2,\n",
       "       3, 0, 0, 2, 3, 1, 1, 0, 3, 0, 2, 2, 3, 3, 3, 1, 3, 1, 0, 3, 3, 0,\n",
       "       1, 0, 2, 2, 2, 0, 3, 1, 0, 2, 1, 2, 3, 0, 0, 1, 3, 3, 2, 1, 1, 3,\n",
       "       3, 2, 3, 1, 1, 2, 1, 3, 3, 3, 0, 0, 2, 1, 3, 0, 3, 2, 1, 0, 1, 0,\n",
       "       2, 1, 2, 1, 1, 2, 2, 1, 1, 1, 2, 2, 1, 0, 1, 0, 1, 3, 1, 1, 0, 0,\n",
       "       0, 2, 1, 3, 3, 0, 0, 2, 2, 0, 3, 2, 1, 0, 3, 0, 0, 1, 0, 2, 1, 0,\n",
       "       0, 3, 3, 3, 1, 0, 3, 2, 2, 2, 1, 1, 0, 3, 2, 3, 0, 3, 0, 3, 2, 1,\n",
       "       3, 1, 2, 3, 1, 0, 2, 2, 0, 0, 2, 0, 3, 0, 0, 1, 0, 3, 2, 3, 2, 3,\n",
       "       0, 0, 2, 3, 1, 3, 2, 1, 3, 1, 0, 2, 1, 2, 3, 0, 2, 3, 2, 3, 3, 2,\n",
       "       3, 1, 1, 1, 1, 3, 0, 2, 0, 1, 0, 0, 1, 1, 2, 0, 2, 3, 1, 2, 3, 1,\n",
       "       3, 3, 1, 3, 0, 2, 3, 3, 1, 0, 3, 0, 0, 1, 3, 0, 3, 2, 0, 2, 3, 2,\n",
       "       0, 1, 1, 0, 3, 0, 0, 2, 0, 0, 3, 2, 1, 1, 0, 2, 1, 1, 1, 2, 3, 2,\n",
       "       1, 3, 1, 3, 1, 2, 2, 3, 0, 1, 0, 3, 3, 3, 3, 1, 3, 0, 0, 2, 1, 2,\n",
       "       2, 1, 3, 0, 2, 2, 1, 3, 0, 3, 2, 2, 3, 1, 3, 3, 1, 1, 0, 0, 0, 0,\n",
       "       2, 2, 1, 1, 1, 2, 1, 2, 0, 2, 0, 0, 2, 0, 0, 3, 3, 3, 0, 1, 2, 1,\n",
       "       0, 3, 2, 0, 0, 3, 0, 0, 2, 3, 3, 1, 3, 2, 3, 1, 0, 3, 2, 3, 2, 0,\n",
       "       2, 3, 0, 0, 0, 2, 1, 3, 2, 1, 0, 2, 1, 2, 3, 1, 0, 2, 3, 2, 1, 0,\n",
       "       0, 1, 0, 3, 2, 1, 1, 0, 1, 1, 2, 1, 3, 0, 0, 2, 2, 1, 3, 2, 2, 2,\n",
       "       2, 1, 2, 0, 1, 1, 0, 2, 0, 0, 3, 1, 1, 3, 1, 2, 0, 2, 2, 0, 3, 0,\n",
       "       2, 2, 3, 3, 3, 0, 3, 3, 2, 2, 0, 3, 2, 3, 0, 2, 3, 3, 3, 3, 1, 0,\n",
       "       0, 1, 3, 1, 1, 2, 0, 1, 1, 0, 2, 2, 0, 1, 3, 2, 2, 3, 3, 3, 3, 3,\n",
       "       3, 0, 3, 3, 2, 1, 3, 3, 1, 0, 0, 1, 0, 2, 3, 2, 1, 1, 0, 1, 1, 0,\n",
       "       3, 3, 0, 3, 1, 3, 1, 2, 2, 2, 1, 0, 2, 1, 2, 3, 1, 2, 1, 0, 1, 2,\n",
       "       2, 2, 1, 3, 0, 0, 2, 0, 2, 2, 1, 0, 0, 3, 2, 2, 0, 2, 1, 2, 1, 1,\n",
       "       1, 1, 0, 2, 1, 2, 3, 2, 0, 0, 0, 2, 1, 0, 1, 0, 0, 3, 0, 0, 2, 2,\n",
       "       1, 0, 1, 3, 2, 3, 3, 1, 3, 0, 1, 2, 2, 2, 0, 3, 3, 3, 0, 1, 2, 3,\n",
       "       1, 3, 1, 3, 1, 1, 3, 3, 1, 0, 3, 2, 0, 3, 0, 3, 3, 2, 2, 1, 3, 2,\n",
       "       2, 0, 1, 3, 0, 0, 0, 3, 3, 3, 3, 2, 1, 1, 3, 3, 3, 1, 2, 2, 3, 2,\n",
       "       3, 0, 2, 2, 2, 3, 3, 1, 0, 2, 3, 3, 0, 0, 0, 0, 0, 2, 0, 3, 2, 2,\n",
       "       2, 2, 3, 0, 2, 0, 3, 0, 0, 3, 0, 0, 2, 3, 0, 1, 2, 0, 3, 2, 2, 3,\n",
       "       1, 3, 2, 3, 2, 3, 3, 2, 3, 2, 0, 1, 0, 0, 2, 3, 0, 2, 1, 1, 0, 2,\n",
       "       0, 1, 1, 0, 2, 2, 1, 1, 3, 3, 1, 1, 3, 1, 0, 2, 2, 1, 0, 0, 2, 3,\n",
       "       0, 3, 0, 3, 3, 1, 3, 3, 3, 0, 1, 3, 2, 1, 3, 2, 2, 1, 2, 2, 0, 1,\n",
       "       1, 3, 3, 1, 2, 3, 2, 2, 0, 0, 1, 3, 0, 0, 1, 1, 0, 2, 0, 1, 0, 2,\n",
       "       0, 2, 1, 2, 3, 0, 0, 2, 3, 3, 1, 2, 2, 0, 0, 3, 0, 3, 1, 2, 2, 3,\n",
       "       2, 2, 2, 2, 3, 0, 3, 0, 1, 0], dtype=int32)"
      ]
     },
     "execution_count": 5,
     "metadata": {},
     "output_type": "execute_result"
    }
   ],
   "source": [
    "from sklearn.cluster import KMeans\n",
    "\n",
    "# create model based on 4 centroids\n",
    "\n",
    "model = KMeans(n_clusters=4, init='k-means++', n_init=500, max_iter=1500)\n",
    "# fit to the data and predict the cluster assignments for each data point\n",
    "km_clusters = model.fit_predict(cluster_data)\n",
    "# view th cluster asignments \n",
    "km_clusters\n"
   ]
  },
  {
   "cell_type": "code",
   "execution_count": 8,
   "metadata": {},
   "outputs": [
    {
     "ename": "NameError",
     "evalue": "name 'mkr_dic' is not defined",
     "output_type": "error",
     "traceback": [
      "\u001b[0;31m---------------------------------------------------------------------------\u001b[0m",
      "\u001b[0;31mNameError\u001b[0m                                 Traceback (most recent call last)",
      "\u001b[1;32m/Users/hiro0x/Documents/GitHub/microsoft-ai/cluster_models/clusters.ipynb Cell 11'\u001b[0m in \u001b[0;36m<cell line: 16>\u001b[0;34m()\u001b[0m\n\u001b[1;32m     <a href='vscode-notebook-cell:/Users/hiro0x/Documents/GitHub/microsoft-ai/cluster_models/clusters.ipynb#ch0000017?line=12'>13</a>\u001b[0m     plt\u001b[39m.\u001b[39mtitle(\u001b[39m'\u001b[39m\u001b[39mAssignments\u001b[39m\u001b[39m'\u001b[39m)\n\u001b[1;32m     <a href='vscode-notebook-cell:/Users/hiro0x/Documents/GitHub/microsoft-ai/cluster_models/clusters.ipynb#ch0000017?line=13'>14</a>\u001b[0m     plt\u001b[39m.\u001b[39mshow()\n\u001b[0;32m---> <a href='vscode-notebook-cell:/Users/hiro0x/Documents/GitHub/microsoft-ai/cluster_models/clusters.ipynb#ch0000017?line=15'>16</a>\u001b[0m plot_clusters(features_2d, km_clusters)\n",
      "\u001b[1;32m/Users/hiro0x/Documents/GitHub/microsoft-ai/cluster_models/clusters.ipynb Cell 11'\u001b[0m in \u001b[0;36mplot_clusters\u001b[0;34m(samples, clusters)\u001b[0m\n\u001b[1;32m      <a href='vscode-notebook-cell:/Users/hiro0x/Documents/GitHub/microsoft-ai/cluster_models/clusters.ipynb#ch0000017?line=4'>5</a>\u001b[0m mrk_dic \u001b[39m=\u001b[39m {\u001b[39m0\u001b[39m:\u001b[39m'\u001b[39m\u001b[39m*\u001b[39m\u001b[39m'\u001b[39m, \u001b[39m1\u001b[39m:\u001b[39m'\u001b[39m\u001b[39m+\u001b[39m\u001b[39m'\u001b[39m, \u001b[39m2\u001b[39m:\u001b[39m'\u001b[39m\u001b[39mx\u001b[39m\u001b[39m'\u001b[39m, \u001b[39m3\u001b[39m:\u001b[39m'\u001b[39m\u001b[39m.\u001b[39m\u001b[39m'\u001b[39m}\n\u001b[1;32m      <a href='vscode-notebook-cell:/Users/hiro0x/Documents/GitHub/microsoft-ai/cluster_models/clusters.ipynb#ch0000017?line=5'>6</a>\u001b[0m colors \u001b[39m=\u001b[39m [col_dic[x] \u001b[39mfor\u001b[39;00m x \u001b[39min\u001b[39;00m clusters]\n\u001b[0;32m----> <a href='vscode-notebook-cell:/Users/hiro0x/Documents/GitHub/microsoft-ai/cluster_models/clusters.ipynb#ch0000017?line=6'>7</a>\u001b[0m markers \u001b[39m=\u001b[39m [mkr_dic[x] \u001b[39mfor\u001b[39;00m x \u001b[39min\u001b[39;00m clusters]\n\u001b[1;32m      <a href='vscode-notebook-cell:/Users/hiro0x/Documents/GitHub/microsoft-ai/cluster_models/clusters.ipynb#ch0000017?line=7'>8</a>\u001b[0m \u001b[39mfor\u001b[39;00m sample \u001b[39min\u001b[39;00m \u001b[39mrange\u001b[39m(\u001b[39mlen\u001b[39m(clusters)):\n\u001b[1;32m      <a href='vscode-notebook-cell:/Users/hiro0x/Documents/GitHub/microsoft-ai/cluster_models/clusters.ipynb#ch0000017?line=8'>9</a>\u001b[0m     plt\u001b[39m.\u001b[39mscatter(samples[sample][\u001b[39m0\u001b[39m], samples[sample][\u001b[39m1\u001b[39m], color\u001b[39m=\u001b[39mcolors[sample], marker \u001b[39m=\u001b[39m markers[sample], s\u001b[39m=\u001b[39m\u001b[39m100\u001b[39m)\n",
      "\u001b[1;32m/Users/hiro0x/Documents/GitHub/microsoft-ai/cluster_models/clusters.ipynb Cell 11'\u001b[0m in \u001b[0;36m<listcomp>\u001b[0;34m(.0)\u001b[0m\n\u001b[1;32m      <a href='vscode-notebook-cell:/Users/hiro0x/Documents/GitHub/microsoft-ai/cluster_models/clusters.ipynb#ch0000017?line=4'>5</a>\u001b[0m mrk_dic \u001b[39m=\u001b[39m {\u001b[39m0\u001b[39m:\u001b[39m'\u001b[39m\u001b[39m*\u001b[39m\u001b[39m'\u001b[39m, \u001b[39m1\u001b[39m:\u001b[39m'\u001b[39m\u001b[39m+\u001b[39m\u001b[39m'\u001b[39m, \u001b[39m2\u001b[39m:\u001b[39m'\u001b[39m\u001b[39mx\u001b[39m\u001b[39m'\u001b[39m, \u001b[39m3\u001b[39m:\u001b[39m'\u001b[39m\u001b[39m.\u001b[39m\u001b[39m'\u001b[39m}\n\u001b[1;32m      <a href='vscode-notebook-cell:/Users/hiro0x/Documents/GitHub/microsoft-ai/cluster_models/clusters.ipynb#ch0000017?line=5'>6</a>\u001b[0m colors \u001b[39m=\u001b[39m [col_dic[x] \u001b[39mfor\u001b[39;00m x \u001b[39min\u001b[39;00m clusters]\n\u001b[0;32m----> <a href='vscode-notebook-cell:/Users/hiro0x/Documents/GitHub/microsoft-ai/cluster_models/clusters.ipynb#ch0000017?line=6'>7</a>\u001b[0m markers \u001b[39m=\u001b[39m [mkr_dic[x] \u001b[39mfor\u001b[39;00m x \u001b[39min\u001b[39;00m clusters]\n\u001b[1;32m      <a href='vscode-notebook-cell:/Users/hiro0x/Documents/GitHub/microsoft-ai/cluster_models/clusters.ipynb#ch0000017?line=7'>8</a>\u001b[0m \u001b[39mfor\u001b[39;00m sample \u001b[39min\u001b[39;00m \u001b[39mrange\u001b[39m(\u001b[39mlen\u001b[39m(clusters)):\n\u001b[1;32m      <a href='vscode-notebook-cell:/Users/hiro0x/Documents/GitHub/microsoft-ai/cluster_models/clusters.ipynb#ch0000017?line=8'>9</a>\u001b[0m     plt\u001b[39m.\u001b[39mscatter(samples[sample][\u001b[39m0\u001b[39m], samples[sample][\u001b[39m1\u001b[39m], color\u001b[39m=\u001b[39mcolors[sample], marker \u001b[39m=\u001b[39m markers[sample], s\u001b[39m=\u001b[39m\u001b[39m100\u001b[39m)\n",
      "\u001b[0;31mNameError\u001b[0m: name 'mkr_dic' is not defined"
     ]
    }
   ],
   "source": [
    "# plot the clusters \n",
    "\n",
    "def plot_clusters(samples, clusters):\n",
    "    col_dic = {0:'blue', 1:'cyan', 2:'green', 3:'orange'}\n",
    "    mrk_dic = {0:'*', 1:'+', 2:'x', 3:'.'}\n",
    "    colors = [col_dic[x] for x in clusters]\n",
    "    markers = [mrk_dic[x] for x in clusters]\n",
    "    for sample in range(len(clusters)):\n",
    "        plt.scatter(samples[sample][0], samples[sample][1], color=colors[sample], marker = markers[sample], s=100)\n",
    "\n",
    "    plt.xlabel('Dimension1')\n",
    "    plt.ylabel(\"Dimension2\")\n",
    "    plt.title('Assignments')\n",
    "    plt.show()\n",
    "\n",
    "plot_clusters(features_2d, km_clusters)"
   ]
  }
 ],
 "metadata": {
  "interpreter": {
   "hash": "aee8b7b246df8f9039afb4144a1f6fd8d2ca17a180786b69acc140d282b71a49"
  },
  "kernelspec": {
   "display_name": "Python 3.10.4 64-bit",
   "language": "python",
   "name": "python3"
  },
  "language_info": {
   "codemirror_mode": {
    "name": "ipython",
    "version": 3
   },
   "file_extension": ".py",
   "mimetype": "text/x-python",
   "name": "python",
   "nbconvert_exporter": "python",
   "pygments_lexer": "ipython3",
   "version": "3.10.4"
  },
  "orig_nbformat": 4
 },
 "nbformat": 4,
 "nbformat_minor": 2
}
